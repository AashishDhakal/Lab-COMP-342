{
 "cells": [
  {
   "cell_type": "markdown",
   "metadata": {},
   "source": [
    "### Mention the name of Programming language and Graphics Library you  are using this semester for performing your Computer Graphics Lab and Project"
   ]
  },
  {
   "cell_type": "markdown",
   "metadata": {},
   "source": [
    "#### Programming Language to be used: Python\n",
    "#### Libraries: PIL, math, Matplotlib"
   ]
  },
  {
   "cell_type": "markdown",
   "metadata": {},
   "source": [
    "### Write the code snippets for setting graphics environment  in your chosen graphics library and display the resolution of your display system through functions/classes provided by your graphics library."
   ]
  },
  {
   "cell_type": "code",
   "execution_count": 10,
   "metadata": {},
   "outputs": [
    {
     "name": "stdout",
     "output_type": "stream",
     "text": [
      "Resolution is: 1920 x 1080\n"
     ]
    }
   ],
   "source": [
    "import ctypes\n",
    "user32 = ctypes.windll.user32\n",
    "user32.SetProcessDPIAware()\n",
    "height, width = user32.GetSystemMetrics(0), user32.GetSystemMetrics(1)\n",
    "print(f'Resolution is: {height} x {width}')"
   ]
  },
  {
   "cell_type": "markdown",
   "metadata": {},
   "source": [
    "### Get Familiar with the coordinate system and Draw a flag of Nepal using the chosen Graphics geometrical functions/ classes provided by the your chosen graphics library and also color the flag accordingly."
   ]
  },
  {
   "cell_type": "code",
   "execution_count": 26,
   "metadata": {},
   "outputs": [
    {
     "data": {
      "image/png": "[encoded data removed]",
      "text/plain": [
       "<PIL.Image.Image image mode=P size=394x480 at 0x1CAC3FB66A0>"
      ]
     },
     "metadata": {},
     "output_type": "display_data"
    }
   ],
   "source": [
    "from PIL import Image, ImageDraw\n",
    "from math import*\n",
    "\n",
    "from IPython.display import display\n",
    "\n",
    "I ,k, l, m, n, o, _=Image.new('P', (394, 480)), 479, 180, 465, 232, 347, 255;\n",
    "D=ImageDraw.Draw(I);\n",
    "P, G=D.polygon, D.pieslice\n",
    "I.putpalette([_, _, _, 0, 0, _, _, 20, 60])\n",
    "\n",
    "def S(x, y, r, e, l, b):\n",
    "    p, a, h=[], 2*pi/e, r*l\n",
    "    c, d=[0, -a/2][b], [a/2, 0][b]\n",
    "    for i in range(e):\n",
    "        p+=[(x+r*cos(i*a+c), y+r*sin(i*a+c)), (x+h*cos(i*a+d), y+h*sin(i*a+d))]\n",
    "    P(p, fill=0)\n",
    "\n",
    "P([(0, 0), (393, 246), (144, 246), (375, k), (0, k)], fill=1) #outer polygon with blue color\n",
    "P([(14, 25), (o, n), (110, n), (o, m), (14, m)], fill=2) # inner polygon with red color over blue polygon \n",
    "S(96, o, 68, 12, .6, 0) #Sun Shape at lower part\n",
    "G([(31, 90), (163, 221)],0 ,l , fill=0) #Semi cricle for the moon\n",
    "G([(28, 68), (166, 200)],0 ,l , fill=2) #another smaller semicircle with red color over the provious semicircle to make it small\n",
    "S(96, 178, 40, 16, .7, 1) #Sun shape above the moon semicicle\n",
    "\n",
    "display(I)"
   ]
  },
  {
   "cell_type": "code",
   "execution_count": null,
   "metadata": {},
   "outputs": [],
   "source": []
  }
 ],
 "metadata": {
  "kernelspec": {
   "display_name": "Python 3",
   "language": "python",
   "name": "python3"
  },
  "language_info": {
   "codemirror_mode": {
    "name": "ipython",
    "version": 3
   },
   "file_extension": ".py",
   "mimetype": "text/x-python",
   "name": "python",
   "nbconvert_exporter": "python",
   "pygments_lexer": "ipython3",
   "version": "3.7.3"
  }
 },
 "nbformat": 4,
 "nbformat_minor": 2
}
